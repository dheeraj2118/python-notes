{
 "cells": [
  {
   "cell_type": "markdown",
   "metadata": {},
   "source": [
    "# Statements\n",
    "\n",
    "## Indentation\n",
    "1. In Python curly braces/brackets '{}' are not used to distinguish between different code-blocks, instead code-blocks are determined based on **INDENTATION** \n",
    "2. All the statements belonging to a code-block are at same level of indentation.\n",
    "3. Nested code-blocks are indented one level more than the code-block they are included in\n",
    "4. Incorrect indentation would lead to Indentation Errors\n"
   ]
  },
  {
   "cell_type": "code",
   "execution_count": 4,
   "metadata": {},
   "outputs": [
    {
     "name": "stdout",
     "output_type": "stream",
     "text": [
      "Hello World\n",
      "6\n",
      "This is a code block\n"
     ]
    }
   ],
   "source": [
    "## Statements at same level\n",
    "print(\"Hello World\")\n",
    "print(1+2+3)\n",
    "print(\"This is a code block\")"
   ]
  },
  {
   "cell_type": "code",
   "execution_count": 5,
   "metadata": {},
   "outputs": [
    {
     "name": "stdout",
     "output_type": "stream",
     "text": [
      "Inside If\n",
      "Outside If\n"
     ]
    }
   ],
   "source": [
    "##  Nested blocks\n",
    "if True:\n",
    "    #Statements here lie a level of indentation more than the parent\n",
    "    print(\"Inside If\")\n",
    "# This lies outside the if block and hence lies at same level of if\n",
    "print(\"Outside If\")"
   ]
  },
  {
   "cell_type": "code",
   "execution_count": 7,
   "metadata": {},
   "outputs": [
    {
     "ename": "IndentationError",
     "evalue": "expected an indented block (<ipython-input-7-2a85a07bfb53>, line 3)",
     "output_type": "error",
     "traceback": [
      "\u001b[0;36m  File \u001b[0;32m\"<ipython-input-7-2a85a07bfb53>\"\u001b[0;36m, line \u001b[0;32m3\u001b[0m\n\u001b[0;31m    print(\"Inside If\") #This statement results in error as it is not an indented block of code\u001b[0m\n\u001b[0m        ^\u001b[0m\n\u001b[0;31mIndentationError\u001b[0m\u001b[0;31m:\u001b[0m expected an indented block\n"
     ]
    }
   ],
   "source": [
    "##  Indentation Error\n",
    "if True:\n",
    "print(\"Inside If\") #This statement results in error as it is not an indented block of code\n",
    "\n",
    "print(\"Outside If\")"
   ]
  },
  {
   "cell_type": "markdown",
   "metadata": {},
   "source": [
    "## Multiline Statements\n",
    "1. When a statement whose length is greater than length of statement allowed as per convention it is recommended to code it as a multiline statement\n",
    "2. In Python multiline statements can be written by adding backslash at the place of linebreak\n",
    "3. List/Tuple/Dictionary items which are included within brackets can be written in multilines without '\\\\'\n"
   ]
  },
  {
   "cell_type": "code",
   "execution_count": 18,
   "metadata": {},
   "outputs": [
    {
     "name": "stdout",
     "output_type": "stream",
     "text": [
      "This is a multiline statement\n",
      "21\n",
      "(1, 2, 3, 4, 5, 6)\n"
     ]
    }
   ],
   "source": [
    "print(\"This is a multi\"\\\n",
    "     \"line statement\")\n",
    "a = 1+2+3+\\\n",
    "     4+5+6\n",
    "\n",
    "print(a)\n",
    "b = (1,2,3,\n",
    "    4,5,6)\n",
    "print(b)"
   ]
  },
  {
   "cell_type": "markdown",
   "metadata": {},
   "source": [
    "## Python Comments\n",
    "1. Comments are followed by a pound('#') character\n",
    "2. Multiline comments can be written by enclosing those in triple quotes"
   ]
  },
  {
   "cell_type": "code",
   "execution_count": 19,
   "metadata": {},
   "outputs": [
    {
     "name": "stdout",
     "output_type": "stream",
     "text": [
      "Hello World\n"
     ]
    }
   ],
   "source": [
    "# One line comment\n",
    "\"\"\"\n",
    "    This is a multiline comment\n",
    "    print(\"Hello World\") -> This will not be executed\n",
    "\"\"\"\n",
    "print(\"Hello World\") #This will be executed"
   ]
  },
  {
   "cell_type": "markdown",
   "metadata": {},
   "source": [
    "## Docstrings\n",
    "1. Docstrings are defined for a function, module or a class, which are used to document regarding the function\n",
    "2. Docstrings are represented by enclosing the content in triple quotes\n"
   ]
  },
  {
   "cell_type": "code",
   "execution_count": 20,
   "metadata": {},
   "outputs": [],
   "source": [
    "def my_function():\n",
    "    \"\"\"This prints hello world\"\"\"\n",
    "    print(\"Hello\")"
   ]
  },
  {
   "cell_type": "code",
   "execution_count": null,
   "metadata": {},
   "outputs": [],
   "source": [
    "my_function()"
   ]
  }
 ],
 "metadata": {
  "kernelspec": {
   "display_name": "Python 2",
   "language": "python",
   "name": "python2"
  },
  "language_info": {
   "codemirror_mode": {
    "name": "ipython",
    "version": 2
   },
   "file_extension": ".py",
   "mimetype": "text/x-python",
   "name": "python",
   "nbconvert_exporter": "python",
   "pygments_lexer": "ipython2",
   "version": "2.7.16"
  }
 },
 "nbformat": 4,
 "nbformat_minor": 2
}
