{
 "cells": [
  {
   "cell_type": "markdown",
   "metadata": {},
   "source": [
    "# Composite Types\n",
    "<pre>\n",
    "    Python provides several composite types which can be formed/group of basic types in python  \n",
    "</pre>\n",
    "## Lists\n",
    "\n",
    "<pre>\n",
    "    List is a collection of items of different/same types\n",
    "    Items in a list can be accessed based on index, and list supports several operations\n",
    "        Example: <b>[ 1, '1', 'abcde', None, 2.789, [1, 3 , 'abc']]</b>\n",
    "    List index starts from Zero(0)\n",
    "<pre>\n"
   ]
  },
  {
   "cell_type": "code",
   "execution_count": 3,
   "metadata": {},
   "outputs": [
    {
     "data": {
      "text/plain": [
       "[1, 'string', True, ['another', 'list', 1]]"
      ]
     },
     "execution_count": 3,
     "metadata": {},
     "output_type": "execute_result"
    }
   ],
   "source": [
    "l = [1, \"string\", True, [\"another\", \"list\", 1]]\n",
    "l"
   ]
  },
  {
   "cell_type": "code",
   "execution_count": 17,
   "metadata": {},
   "outputs": [
    {
     "name": "stdout",
     "output_type": "stream",
     "text": [
      "Access based on index , to get first element(zeroth) l[0]:\t1\n",
      "\n",
      "To retrieve 3rd element l[3]:\t\t\t['another', 'list', 1]\n",
      "\n",
      "To retrieve element inside an item of type list l[3][1]:\tlist\n",
      "\n"
     ]
    }
   ],
   "source": [
    "print(\"Access based on index , to get first element(zeroth) l[0]:\\t{}\\n\".format(l[0]))\n",
    "print(\"To retrieve 3rd element l[3]:\\t\\t\\t{}\\n\".format(l[3]))\n",
    "print(\"To retrieve element inside an item of type list l[3][1]:\\t{}\\n\".format(l[3][1]))"
   ]
  },
  {
   "cell_type": "markdown",
   "metadata": {},
   "source": [
    "### List Functions\n",
    "\n",
    "#### 1. **append** : \n",
    "<pre>Append adds an item to a list\n",
    "Append operation updates the list  to which an item is appended</pre>\n",
    "<code>list_instance.append(item)</code>"
   ]
  },
  {
   "cell_type": "code",
   "execution_count": 27,
   "metadata": {},
   "outputs": [
    {
     "name": "stdout",
     "output_type": "stream",
     "text": [
      "After appending item1(5):[1, 2, 3, 4, 5]\n",
      "After appending with listitem1([6,7,8]):[1, 2, 3, 4, 5, [6, 7, 8]]\n"
     ]
    }
   ],
   "source": [
    "l1 = [1,2,3,4]\n",
    "item1 = 5\n",
    "listitem1 = [6,7,8]\n",
    "l1.append(item1)\n",
    "print(\"After appending item1(5):{}\".format(l1))\n",
    "l1.append(listitem1)\n",
    "print(\"After appending with listitem1([6,7,8]):{}\".format(l1))"
   ]
  },
  {
   "cell_type": "markdown",
   "metadata": {},
   "source": [
    "2. **extend**\n",
    "<pre>Extend function adds items of one list to the other</pre>\n",
    " <code>list_1.extend(list_2)</code>\n",
    " <pre>\n",
    " Above operation adds items in list_2 to list_1\n",
    " </pre>"
   ]
  },
  {
   "cell_type": "code",
   "execution_count": 29,
   "metadata": {},
   "outputs": [
    {
     "name": "stdout",
     "output_type": "stream",
     "text": [
      "[1, 2, ['a', 'b', 'c'], 3, 4, ['d', 'e', 'f']]\n"
     ]
    }
   ],
   "source": [
    "list_1 = [1,2,['a','b','c']]\n",
    "list_2 = [3,4,['d','e','f']]\n",
    "list_1.extend(list_2)\n",
    "print(list_1)"
   ]
  },
  {
   "cell_type": "markdown",
   "metadata": {},
   "source": [
    "3. **insert**:\n",
    "    <pre>Insert function inserts an item before given position</pre>\n",
    "    <code>list_1.insert(position(integer),value_to_be_inserted)</code>"
   ]
  },
  {
   "cell_type": "code",
   "execution_count": 31,
   "metadata": {},
   "outputs": [
    {
     "data": {
      "text/plain": [
       "[1, 2, 3, [1, 2], 4, 5]"
      ]
     },
     "execution_count": 31,
     "metadata": {},
     "output_type": "execute_result"
    }
   ],
   "source": [
    "list_1 = [1,2,3,4,5]\n",
    "list_1.insert(3, [1,2])\n",
    "list_1"
   ]
  },
  {
   "cell_type": "markdown",
   "metadata": {},
   "source": [
    "4. **count**\n",
    "<pre>Count function gets the number of occurances of an item in a given list</pre>\n",
    "<code>list_1.count(item)</code>\n"
   ]
  },
  {
   "cell_type": "code",
   "execution_count": 32,
   "metadata": {},
   "outputs": [
    {
     "data": {
      "text/plain": [
       "2"
      ]
     },
     "execution_count": 32,
     "metadata": {},
     "output_type": "execute_result"
    }
   ],
   "source": [
    "list_1 = [1,2,3,4,5,1,2]\n",
    "list_1.count(1)"
   ]
  },
  {
   "cell_type": "markdown",
   "metadata": {},
   "source": [
    "5. **index**\n",
    "<pre>Index function retrieves index of first occurance of a value</pre>\n",
    "<code>list_1.index(value)</code>\n",
    "<p>index function also takes two optional arguments start and end, which can restrict the search scope</p>\n",
    "<code> list_1.index(value, start, end) </code>"
   ]
  },
  {
   "cell_type": "code",
   "execution_count": 36,
   "metadata": {},
   "outputs": [
    {
     "name": "stdout",
     "output_type": "stream",
     "text": [
      "4\n",
      "Scope limited search\n",
      "6\n"
     ]
    }
   ],
   "source": [
    "list_1 = [1,2,6,4,3,5,3,7,9]\n",
    "print(list_1.index(3))\n",
    "print(\"Scope limited search\")\n",
    "print(list_1.index(3,5))"
   ]
  },
  {
   "cell_type": "markdown",
   "metadata": {},
   "source": [
    "6. **pop**\n",
    "<pre> Pop function returns last item from a list removing it from the list </pre>\n",
    "<code>list_1.pop()</code>\n",
    "<pre> When passed an integer pops the value at the index if it with the range of list's size\n",
    "       Throws an error if the passed index is out of range\n",
    " </pre>\n",
    "<code>list_1.pop(index)</code>"
   ]
  },
  {
   "cell_type": "code",
   "execution_count": 42,
   "metadata": {},
   "outputs": [
    {
     "name": "stdout",
     "output_type": "stream",
     "text": [
      "5\n",
      "3\n"
     ]
    },
    {
     "ename": "IndexError",
     "evalue": "pop index out of range",
     "output_type": "error",
     "traceback": [
      "\u001b[0;31m---------------------------------------------------------------------------\u001b[0m",
      "\u001b[0;31mIndexError\u001b[0m                                Traceback (most recent call last)",
      "\u001b[0;32m<ipython-input-42-bd12303cc84a>\u001b[0m in \u001b[0;36m<module>\u001b[0;34m()\u001b[0m\n\u001b[1;32m      2\u001b[0m \u001b[0;32mprint\u001b[0m\u001b[0;34m(\u001b[0m\u001b[0mlist_1\u001b[0m\u001b[0;34m.\u001b[0m\u001b[0mpop\u001b[0m\u001b[0;34m(\u001b[0m\u001b[0;34m)\u001b[0m\u001b[0;34m)\u001b[0m\u001b[0;34m\u001b[0m\u001b[0m\n\u001b[1;32m      3\u001b[0m \u001b[0;32mprint\u001b[0m\u001b[0;34m(\u001b[0m\u001b[0mlist_1\u001b[0m\u001b[0;34m.\u001b[0m\u001b[0mpop\u001b[0m\u001b[0;34m(\u001b[0m\u001b[0;36m2\u001b[0m\u001b[0;34m)\u001b[0m\u001b[0;34m)\u001b[0m\u001b[0;34m\u001b[0m\u001b[0m\n\u001b[0;32m----> 4\u001b[0;31m \u001b[0;32mprint\u001b[0m\u001b[0;34m(\u001b[0m\u001b[0mlist_1\u001b[0m\u001b[0;34m.\u001b[0m\u001b[0mpop\u001b[0m\u001b[0;34m(\u001b[0m\u001b[0;36m7\u001b[0m\u001b[0;34m)\u001b[0m\u001b[0;34m)\u001b[0m \u001b[0;31m#Out of range index\u001b[0m\u001b[0;34m\u001b[0m\u001b[0m\n\u001b[0m",
      "\u001b[0;31mIndexError\u001b[0m: pop index out of range"
     ]
    }
   ],
   "source": [
    "list_1 = [1,2,3,4,5]\n",
    "print(list_1.pop())\n",
    "print(list_1.pop(2))\n",
    "print(list_1.pop(7)) #Out of range index"
   ]
  },
  {
   "cell_type": "markdown",
   "metadata": {},
   "source": [
    "7. **remove**\n",
    "<pre>Removes given item from the list if it exists</pre>\n",
    "<code>list_1.remove(item)</code>\n",
    "<pre>It does not return anything but the list gets modified\n",
    "Throws an error if given item does not exist in the list </pre>\n",
    "\n"
   ]
  },
  {
   "cell_type": "code",
   "execution_count": 49,
   "metadata": {},
   "outputs": [
    {
     "name": "stdout",
     "output_type": "stream",
     "text": [
      "[1, 2, 3, 4]\n"
     ]
    },
    {
     "ename": "ValueError",
     "evalue": "list.remove(x): x not in list",
     "output_type": "error",
     "traceback": [
      "\u001b[0;31m---------------------------------------------------------------------------\u001b[0m",
      "\u001b[0;31mValueError\u001b[0m                                Traceback (most recent call last)",
      "\u001b[0;32m<ipython-input-49-2f3b8e5bf470>\u001b[0m in \u001b[0;36m<module>\u001b[0;34m()\u001b[0m\n\u001b[1;32m      2\u001b[0m \u001b[0mlist_1\u001b[0m\u001b[0;34m.\u001b[0m\u001b[0mremove\u001b[0m\u001b[0;34m(\u001b[0m\u001b[0;36m6\u001b[0m\u001b[0;34m)\u001b[0m\u001b[0;34m\u001b[0m\u001b[0m\n\u001b[1;32m      3\u001b[0m \u001b[0;32mprint\u001b[0m\u001b[0;34m(\u001b[0m\u001b[0mlist_1\u001b[0m\u001b[0;34m)\u001b[0m\u001b[0;34m\u001b[0m\u001b[0m\n\u001b[0;32m----> 4\u001b[0;31m \u001b[0mlist_1\u001b[0m\u001b[0;34m.\u001b[0m\u001b[0mremove\u001b[0m\u001b[0;34m(\u001b[0m\u001b[0;36m5\u001b[0m\u001b[0;34m)\u001b[0m \u001b[0;31m# Throws an error\u001b[0m\u001b[0;34m\u001b[0m\u001b[0m\n\u001b[0m",
      "\u001b[0;31mValueError\u001b[0m: list.remove(x): x not in list"
     ]
    }
   ],
   "source": [
    "list_1 = [1,2,3,4,6]\n",
    "list_1.remove(6)\n",
    "print(list_1)\n",
    "list_1.remove(5) # Throws an error"
   ]
  },
  {
   "cell_type": "markdown",
   "metadata": {},
   "source": [
    "8. **reverse**\n",
    "<pre>Reverses the items in the list\n",
    "Does not remove anything but updates the list</pre>\n",
    "<code>list_1.reverse()</code>\n",
    "  "
   ]
  },
  {
   "cell_type": "code",
   "execution_count": 51,
   "metadata": {},
   "outputs": [
    {
     "data": {
      "text/plain": [
       "[5, 6, 3, 4, 2, 1]"
      ]
     },
     "execution_count": 51,
     "metadata": {},
     "output_type": "execute_result"
    }
   ],
   "source": [
    "list_1 = [1,2,4,3,6,5]\n",
    "list_1.reverse()\n",
    "list_1"
   ]
  },
  {
   "cell_type": "markdown",
   "metadata": {},
   "source": [
    "9. **sort**\n",
    "<pre>\n",
    "Sorts the given list\n",
    "It does not return anything but updates the given list\n",
    "Default behaviour is to sort it in <b>ascending</b> order\n",
    "</pre>\n",
    "<code>list_1.sort()</code>\n",
    "<pre>Sort takes an optional reverse flag as an argument which sorts in <b>descending</b> order</pre>\n",
    "<code>list_1.sort(reverse=True)</code>"
   ]
  },
  {
   "cell_type": "code",
   "execution_count": 52,
   "metadata": {},
   "outputs": [
    {
     "name": "stdout",
     "output_type": "stream",
     "text": [
      "[1, 2, 3, 4, 5, 6, 8]\n",
      "[8, 6, 5, 4, 3, 2, 1]\n"
     ]
    }
   ],
   "source": [
    "list_1 = [2,1,3,4,6,5,8]\n",
    "list_1.sort() # Sorts in ascending order\n",
    "print(list_1)\n",
    "list_1.sort(reverse=True) # Sorts in descending order\n",
    "print(list_1)"
   ]
  },
  {
   "cell_type": "code",
   "execution_count": null,
   "metadata": {},
   "outputs": [],
   "source": []
  }
 ],
 "metadata": {
  "kernelspec": {
   "display_name": "Python 2",
   "language": "python",
   "name": "python2"
  },
  "language_info": {
   "codemirror_mode": {
    "name": "ipython",
    "version": 2
   },
   "file_extension": ".py",
   "mimetype": "text/x-python",
   "name": "python",
   "nbconvert_exporter": "python",
   "pygments_lexer": "ipython2",
   "version": "2.7.16"
  }
 },
 "nbformat": 4,
 "nbformat_minor": 2
}
