i   {
 "cells": [
  {
   "cell_type": "markdown",
   "metadata": {},
   "source": [
    "# Dictionaries\n",
    "<pre>\n",
    "Dictionaries are used to store key-value pairs in a variable\n",
    "Each key value pair is called an item\n",
    "</pre>\n",
    "<code>{\n",
    "\"key1\":\"value1\",\n",
    "\"key2\":1,\n",
    "3:\"value3\",\n",
    "\"key4\":[1,2,3,4],\n",
    "\"key5\":(1,2,3)\n",
    "}    \n",
    "</code>\n",
    "<p>Dictionary values are retrieved and set refering by their keys</p>\n",
    "<code>dict_1[\"key\"]</code><br/>\n",
    "<code>dict_1[\"key\"] = \"new_value\"</code>\n",
    "<p>\n",
    "    <b>Dictionary keys need to be unique and immutable types </b>\n",
    "</p>\n"
   ]
  },
  {
   "cell_type": "code",
   "execution_count": 6,
   "metadata": {},
   "outputs": [
    {
     "name": "stdout",
     "output_type": "stream",
     "text": [
      "value1\n",
      "2\n"
     ]
    }
   ],
   "source": [
    "my_dict = {\n",
    "    \"key1\": \"value1\",\n",
    "    \"integer_value\":1,\n",
    "    2: \"integer_key\",\n",
    "    1:2,\n",
    "    \"list_value\":[1,2,3,4],\n",
    "    \"tuple_value\":(1,2,\"abc\")\n",
    "}\n",
    "print(my_dict[\"key1\"])\n",
    "print(my_dict[1])"
   ]
  },
  {
   "cell_type": "markdown",
   "metadata": {},
   "source": [
    "## Dictionary Functions\n",
    "1. **fromkeys**\n",
    "<p>\n",
    "    Returns a new dictionary from given list as key and optional value to set<br/>\n",
    "    When value is not set value is set to None\n",
    "</p>\n",
    "<code>dict.fromkeys([\"key1\",\"key2\",\"key3\"],\"value\")</code>"
   ]
  },
  {
   "cell_type": "code",
   "execution_count": 14,
   "metadata": {},
   "outputs": [
    {
     "data": {
      "text/plain": [
       "{'key1': 'value', 'key2': 'value', 'key3': 'value'}"
      ]
     },
     "execution_count": 14,
     "metadata": {},
     "output_type": "execute_result"
    }
   ],
   "source": [
    "dict.fromkeys([\"key1\",\"key2\",\"key3\"],\"value\")"
   ]
  },
  {
   "cell_type": "markdown",
   "metadata": {},
   "source": [
    "2. **get**\n",
    "<pre>\n",
    "Retrieves value mapped to given key in the dictionary, returns None if key is not found\n",
    "Accepts optional argument a default value , which is returned when key is not found\n",
    "</pre>\n",
    "<code>dict_1.get(key)</code>"
   ]
  },
  {
   "cell_type": "code",
   "execution_count": 50,
   "metadata": {},
   "outputs": [
    {
     "name": "stdout",
     "output_type": "stream",
     "text": [
      "1\n",
      "None\n"
     ]
    }
   ],
   "source": [
    "dict_1 = {\n",
    "    \"a\":1,\n",
    "    \"b\":2,\n",
    "    \"c\":3\n",
    "}\n",
    "print(dict_1.get(\"a\"))\n",
    "print(dict_1.get(\"d\"))"
   ]
  },
  {
   "cell_type": "markdown",
   "metadata": {},
   "source": [
    "3. **has_key**\n",
    "<pre>\n",
    "      Verifies if a key exists in the dictionary, returns <b>True</b> if it exists or <b>False</b> if it does not\n",
    "</pre>\n",
    "<code>dict_1.has_key('key')</code>"
   ]
  },
  {
   "cell_type": "code",
   "execution_count": 36,
   "metadata": {},
   "outputs": [
    {
     "name": "stdout",
     "output_type": "stream",
     "text": [
      "True\n",
      "False\n"
     ]
    }
   ],
   "source": [
    "print(dict_1.has_key(\"a\")) #Prints True\n",
    "print(dict_1.has_key(\"A\")) #Prints False, sice dictionary keys are case sensitive"
   ]
  },
  {
   "cell_type": "markdown",
   "metadata": {},
   "source": [
    "4. **items**\n",
    "<pre>\n",
    "Returns key,value pair tuples in a dictionary\n",
    "</pre>\n",
    "<code>dict_1.items()</code>"
   ]
  },
  {
   "cell_type": "code",
   "execution_count": 37,
   "metadata": {},
   "outputs": [
    {
     "name": "stdout",
     "output_type": "stream",
     "text": [
      "[('a', 1), ('c', 3), ('b', 2)]\n"
     ]
    }
   ],
   "source": [
    "print(dict_1.items())"
   ]
  },
  {
   "cell_type": "markdown",
   "metadata": {},
   "source": [
    "5. **iteritems**\n",
    "   <pre>\n",
    "       Returns an <b>iterator**</b> on the dictionary items\n",
    "   </pre>\n",
    "6. **iterkeys**\n",
    "    <pre> Returns an iterator on keys of a dictionary</pre>\n",
    "7. **itervalues**\n",
    "    <pre>Returns an iterator on values of a dictionary</pre>\n",
    "  > iterator - Something that can be iterated over, where items can be accessed one by one in a loop"
   ]
  },
  {
   "cell_type": "code",
   "execution_count": 38,
   "metadata": {},
   "outputs": [
    {
     "name": "stdout",
     "output_type": "stream",
     "text": [
      "('a', 1)\n",
      "('c', 3)\n",
      "('b', 2)\n"
     ]
    }
   ],
   "source": [
    "for i,j in dict_1.iteritems(): ### Same applies for iterkeys and itervalues\n",
    "    print(i,j)"
   ]
  },
  {
   "cell_type": "markdown",
   "metadata": {},
   "source": [
    "8. **keys**\n",
    "<pre>Returns list of keys of the dictionary</pre>\n",
    "<code>dict_1.keys()</code>"
   ]
  },
  {
   "cell_type": "code",
   "execution_count": 39,
   "metadata": {},
   "outputs": [
    {
     "data": {
      "text/plain": [
       "['a', 'c', 'b']"
      ]
     },
     "execution_count": 39,
     "metadata": {},
     "output_type": "execute_result"
    }
   ],
   "source": [
    "dict_1.keys()"
   ]
  },
  {
   "cell_type": "markdown",
   "metadata": {},
   "source": [
    "9. **pop**\n",
    "<pre>Returns the value mapped to key passed as argument removing  item from given dictionary\n",
    "Throws error if key does not exist in the dictionary</pre>\n",
    "<code>dict_1.pop(key)</code>\n"
   ]
  },
  {
   "cell_type": "code",
   "execution_count": 43,
   "metadata": {},
   "outputs": [
    {
     "data": {
      "text/plain": [
       "1"
      ]
     },
     "execution_count": 43,
     "metadata": {},
     "output_type": "execute_result"
    }
   ],
   "source": [
    "dict_1.pop('a') #Returns value mapped to 'b' in  dict_1 and remove the item from dict_1\n"
   ]
  },
  {
   "cell_type": "markdown",
   "metadata": {},
   "source": [
    "10. **popitem**\n",
    "   <pre> pop's given key value pair(item) tuple from the dictionary\n",
    "   Throws error if dictionary is empty</pre>"
   ]
  },
  {
   "cell_type": "code",
   "execution_count": 47,
   "metadata": {},
   "outputs": [
    {
     "data": {
      "text/plain": [
       "('c', 3)"
      ]
     },
     "execution_count": 47,
     "metadata": {},
     "output_type": "execute_result"
    }
   ],
   "source": [
    "dict_1.popitem()"
   ]
  },
  {
   "cell_type": "markdown",
   "metadata": {},
   "source": [
    "11. **setdefault**\n",
    "<pre>Returns value of given key from the dict if it exists, else insert key with the value provided</pre>\n",
    "<code>dict_1.setdefault(key, default_value)</code>"
   ]
  },
  {
   "cell_type": "code",
   "execution_count": 51,
   "metadata": {},
   "outputs": [
    {
     "name": "stdout",
     "output_type": "stream",
     "text": [
      "1\n",
      "Default\n"
     ]
    }
   ],
   "source": [
    "print(dict_1.setdefault('a',\"Default\")) #Returns key mapped to a\n",
    "print(dict_1.setdefault('A',\"Default\")) #Returns Default"
   ]
  },
  {
   "cell_type": "markdown",
   "metadata": {},
   "source": [
    "12. **update**\n",
    "<pre>Adds items in dictionary passed to argument to later</pre>\n",
    "<code>dict_1.update({'key':'value'})</code>"
   ]
  },
  {
   "cell_type": "code",
   "execution_count": 60,
   "metadata": {},
   "outputs": [
    {
     "data": {
      "text/plain": [
       "{'A': 'Default',\n",
       " 'a': 1,\n",
       " 'b': 2,\n",
       " 'c': 3,\n",
       " 'new_key': 'new_value',\n",
       " 'new_key2': 'new_value2'}"
      ]
     },
     "execution_count": 60,
     "metadata": {},
     "output_type": "execute_result"
    }
   ],
   "source": [
    "dict_2 = {'new_key':'new_value','new_key2':'new_value2'}\n",
    "dict_1.update(dict_2)\n",
    "dict_1"
   ]
  },
  {
   "cell_type": "markdown",
   "metadata": {},
   "source": [
    "13. **values**\n",
    "<pre>Returns list of all values in given dictionary</pre>\n",
    "<code>dict_1.values()</code>"
   ]
  },
  {
   "cell_type": "code",
   "execution_count": 63,
   "metadata": {},
   "outputs": [
    {
     "data": {
      "text/plain": [
       "[1, 'Default', 3, 2, 'new_value', 'new_value2']"
      ]
     },
     "execution_count": 63,
     "metadata": {},
     "output_type": "execute_result"
    }
   ],
   "source": [
    "dict_1.values()"
   ]
  },
  {
   "cell_type": "markdown",
   "metadata": {},
   "source": [
    "14. **viewitems, viewkeys, viewvalues**\n",
    "<pre>returns a view on dictitems , dictkeys and dictvalues on the dictionary</pre>\n"
   ]
  },
  {
   "cell_type": "code",
   "execution_count": null,
   "metadata": {},
   "outputs": [],
   "source": []
  }
 ],
 "metadata": {
  "kernelspec": {
   "display_name": "Python 2",
   "language": "python",
   "name": "python2"
  },
  "language_info": {
   "codemirror_mode": {
    "name": "ipython",
    "version": 2
   },
   "file_extension": ".py",
   "mimetype": "text/x-python",
   "name": "python",
   "nbconvert_exporter": "python",
   "pygments_lexer": "ipython2",
   "version": "2.7.16"
  }
 },
 "nbformat": 4,
 "nbformat_minor": 2
}
