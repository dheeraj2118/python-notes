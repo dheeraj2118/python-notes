{
 "cells": [
  {
   "cell_type": "markdown",
   "metadata": {},
   "source": [
    "# Python\n",
    "Python is an **interpreted**, **object-oriented**, high-level programming language with dynamic semantics"
   ]
  },
  {
   "cell_type": "markdown",
   "metadata": {},
   "source": [
    "## Basic Types\n",
    "Following are basic data types in python\n",
    "### Numeric Types\n",
    "<pre>\n",
    "1. Integers : Numbers that can be represented from the set of whole numbers with a **sign**\n",
    "    eg.: 1,13,-1,0 ..\n",
    "2. Floating Point Numbers : Numbers that have decimal part\n",
    "    eg.: 1.0,0.2587, 1.1234 ..\n",
    "3. Complex Numbers: Numbers that include imaginary part(a+ib)\n",
    "    eg.: 2i, 1+2i, 1.2+3.4i ..\n",
    "</pre>\n",
    "### Strings\n",
    "<pre> \n",
    " String is a character sequence which can be represented in below formats\n",
    " \n",
    " 1. Generally strings are represented by enclosing between doublequotes(\") or singlequotes(\")\n",
    " 2. For strings that contain doublequote or singlequote characters in it it would be comfortable to represent those by enclosing it with opposite type of quote characters\n",
    "     For example, \n",
    "     We can represent the string below\n",
    "         This string contains a doublequote(\") character\n",
    "     as 'This string contains a doublequote(\") character'\n",
    "     \n",
    "     and below string\n",
    "         While this has a singlequote(') character\n",
    "     as \"While this has a singlequote(') character\"\n",
    " 3. String that spawn accross multiple lines can be represented as shown below with triple quotes\n",
    "         \"\"\" \n",
    "             This is a multiline string\n",
    "             as it spawns accross multiple lines \n",
    "             \"like this one\"\n",
    "         \"\"\"\n",
    " 4. String that contains both doublequote(s) and singlequote(s) can also be represented using triple quotes\n",
    "         \"\"\" This is a string that contains \" and a '\"\"\"\n",
    "</pre>\n",
    "\n",
    "### Boolean Type\n",
    "1. Boolean type is used to represent logical value which can be either True, False\n",
    "2. It can take either True or False"
   ]
  },
  {
   "cell_type": "code",
   "execution_count": 9,
   "metadata": {},
   "outputs": [
    {
     "name": "stdout",
     "output_type": "stream",
     "text": [
      "\n",
      "    This is a multiline string as \n",
      "    it spawns accross multiple lines and can be represented\n",
      "    \"like this one\"\n",
      "\n"
     ]
    }
   ],
   "source": [
    "# Example for a multiline string with triplequote\n",
    "\n",
    "print(\"\"\"\n",
    "    This is a multiline string as \n",
    "    it spawns accross multiple lines and can be represented\n",
    "    \"like this one\"\n",
    "\"\"\")"
   ]
  },
  {
   "cell_type": "markdown",
   "metadata": {},
   "source": []
  },
  {
   "cell_type": "code",
   "execution_count": null,
   "metadata": {},
   "outputs": [],
   "source": []
  }
 ],
 "metadata": {
  "kernelspec": {
   "display_name": "Python 2",
   "language": "python",
   "name": "python2"
  },
  "language_info": {
   "codemirror_mode": {
    "name": "ipython",
    "version": 2
   },
   "file_extension": ".py",
   "mimetype": "text/x-python",
   "name": "python",
   "nbconvert_exporter": "python",
   "pygments_lexer": "ipython2",
   "version": "2.7.16"
  }
 },
 "nbformat": 4,
 "nbformat_minor": 2
}
